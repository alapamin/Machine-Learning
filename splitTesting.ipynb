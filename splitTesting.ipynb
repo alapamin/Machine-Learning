{
 "metadata": {
  "language_info": {
   "codemirror_mode": {
    "name": "ipython",
    "version": 3
   },
   "file_extension": ".py",
   "mimetype": "text/x-python",
   "name": "python",
   "nbconvert_exporter": "python",
   "pygments_lexer": "ipython3",
   "version": "3.8.8"
  },
  "orig_nbformat": 2,
  "kernelspec": {
   "name": "python388jvsc74a57bd04384d5d48731c5df947e957533e28d3b113f43933fa251ca0537712ee9e826f4",
   "display_name": "Python 3.8.8 64-bit ('base': conda)"
  },
  "metadata": {
   "interpreter": {
    "hash": "4384d5d48731c5df947e957533e28d3b113f43933fa251ca0537712ee9e826f4"
   }
  }
 },
 "nbformat": 4,
 "nbformat_minor": 2,
 "cells": [
  {
   "source": [
    "from sklearn.model_selection import train_test_split"
   ],
   "cell_type": "code",
   "metadata": {},
   "execution_count": 3,
   "outputs": []
  },
  {
   "cell_type": "code",
   "execution_count": 4,
   "metadata": {},
   "outputs": [],
   "source": [
    "import pandas as pd\n",
    "df = pd.read_csv('Pre-Model Algorithms/advertising.csv')\n",
    "X = df[['Daily Time Spent on Site', 'Age', 'Area Income', 'Daily Internet Usage', 'Ad Topic Line', 'Country']]\n",
    "y = df['Clicked on Ad']"
   ]
  },
  {
   "cell_type": "code",
   "execution_count": 5,
   "metadata": {},
   "outputs": [
    {
     "output_type": "execute_result",
     "data": {
      "text/plain": [
       "     Daily Time Spent on Site  Age  Area Income  Daily Internet Usage  \\\n",
       "0                       68.95   35     61833.90                256.09   \n",
       "1                       80.23   31     68441.85                193.77   \n",
       "2                       69.47   26     59785.94                236.50   \n",
       "3                       74.15   29     54806.18                245.89   \n",
       "4                       68.37   35     73889.99                225.58   \n",
       "..                        ...  ...          ...                   ...   \n",
       "995                     72.97   30     71384.57                208.58   \n",
       "996                     51.30   45     67782.17                134.42   \n",
       "997                     51.63   51     42415.72                120.37   \n",
       "998                     55.55   19     41920.79                187.95   \n",
       "999                     45.01   26     29875.80                178.35   \n",
       "\n",
       "                             Ad Topic Line                 Country  \n",
       "0       Cloned 5thgeneration orchestration                 Tunisia  \n",
       "1       Monitored national standardization                   Nauru  \n",
       "2         Organic bottom-line service-desk              San Marino  \n",
       "3    Triple-buffered reciprocal time-frame                   Italy  \n",
       "4            Robust logistical utilization                 Iceland  \n",
       "..                                     ...                     ...  \n",
       "995          Fundamental modular algorithm                 Lebanon  \n",
       "996        Grass-roots cohesive monitoring  Bosnia and Herzegovina  \n",
       "997           Expanded intangible solution                Mongolia  \n",
       "998   Proactive bandwidth-monitored policy               Guatemala  \n",
       "999        Virtual 5thgeneration emulation                  Brazil  \n",
       "\n",
       "[1000 rows x 6 columns]"
      ],
      "text/html": "<div>\n<style scoped>\n    .dataframe tbody tr th:only-of-type {\n        vertical-align: middle;\n    }\n\n    .dataframe tbody tr th {\n        vertical-align: top;\n    }\n\n    .dataframe thead th {\n        text-align: right;\n    }\n</style>\n<table border=\"1\" class=\"dataframe\">\n  <thead>\n    <tr style=\"text-align: right;\">\n      <th></th>\n      <th>Daily Time Spent on Site</th>\n      <th>Age</th>\n      <th>Area Income</th>\n      <th>Daily Internet Usage</th>\n      <th>Ad Topic Line</th>\n      <th>Country</th>\n    </tr>\n  </thead>\n  <tbody>\n    <tr>\n      <th>0</th>\n      <td>68.95</td>\n      <td>35</td>\n      <td>61833.90</td>\n      <td>256.09</td>\n      <td>Cloned 5thgeneration orchestration</td>\n      <td>Tunisia</td>\n    </tr>\n    <tr>\n      <th>1</th>\n      <td>80.23</td>\n      <td>31</td>\n      <td>68441.85</td>\n      <td>193.77</td>\n      <td>Monitored national standardization</td>\n      <td>Nauru</td>\n    </tr>\n    <tr>\n      <th>2</th>\n      <td>69.47</td>\n      <td>26</td>\n      <td>59785.94</td>\n      <td>236.50</td>\n      <td>Organic bottom-line service-desk</td>\n      <td>San Marino</td>\n    </tr>\n    <tr>\n      <th>3</th>\n      <td>74.15</td>\n      <td>29</td>\n      <td>54806.18</td>\n      <td>245.89</td>\n      <td>Triple-buffered reciprocal time-frame</td>\n      <td>Italy</td>\n    </tr>\n    <tr>\n      <th>4</th>\n      <td>68.37</td>\n      <td>35</td>\n      <td>73889.99</td>\n      <td>225.58</td>\n      <td>Robust logistical utilization</td>\n      <td>Iceland</td>\n    </tr>\n    <tr>\n      <th>...</th>\n      <td>...</td>\n      <td>...</td>\n      <td>...</td>\n      <td>...</td>\n      <td>...</td>\n      <td>...</td>\n    </tr>\n    <tr>\n      <th>995</th>\n      <td>72.97</td>\n      <td>30</td>\n      <td>71384.57</td>\n      <td>208.58</td>\n      <td>Fundamental modular algorithm</td>\n      <td>Lebanon</td>\n    </tr>\n    <tr>\n      <th>996</th>\n      <td>51.30</td>\n      <td>45</td>\n      <td>67782.17</td>\n      <td>134.42</td>\n      <td>Grass-roots cohesive monitoring</td>\n      <td>Bosnia and Herzegovina</td>\n    </tr>\n    <tr>\n      <th>997</th>\n      <td>51.63</td>\n      <td>51</td>\n      <td>42415.72</td>\n      <td>120.37</td>\n      <td>Expanded intangible solution</td>\n      <td>Mongolia</td>\n    </tr>\n    <tr>\n      <th>998</th>\n      <td>55.55</td>\n      <td>19</td>\n      <td>41920.79</td>\n      <td>187.95</td>\n      <td>Proactive bandwidth-monitored policy</td>\n      <td>Guatemala</td>\n    </tr>\n    <tr>\n      <th>999</th>\n      <td>45.01</td>\n      <td>26</td>\n      <td>29875.80</td>\n      <td>178.35</td>\n      <td>Virtual 5thgeneration emulation</td>\n      <td>Brazil</td>\n    </tr>\n  </tbody>\n</table>\n<p>1000 rows × 6 columns</p>\n</div>"
     },
     "metadata": {},
     "execution_count": 5
    }
   ],
   "source": [
    "X"
   ]
  },
  {
   "cell_type": "code",
   "execution_count": 6,
   "metadata": {},
   "outputs": [],
   "source": [
    "#the training/test data is split 70/30 and shuffled, with a random seed of 10 ‘bookmarked’ for future code replication.\n",
    "\n",
    "X_train, X_test, y_train, y_test = train_test_split(X, y, test_size=0.3, random_state=10, shuffle=True)"
   ]
  },
  {
   "cell_type": "code",
   "execution_count": 7,
   "metadata": {},
   "outputs": [],
   "source": [
    "#sets the training data to 60% and the test data to 40%. The test data is then split 50/50 so that the test data and validation set are each equivalent to 20% of the original data.\n",
    "\n",
    "X_train, X_test, y_train, y_test = train_test_split(X, y, test_size=0.4)"
   ]
  },
  {
   "cell_type": "code",
   "execution_count": 8,
   "metadata": {},
   "outputs": [],
   "source": [
    "X_test, X_val, y_test, y_val = train_test_split(X_test, y_test, test_size=0.5)"
   ]
  },
  {
   "cell_type": "code",
   "execution_count": null,
   "metadata": {},
   "outputs": [],
   "source": []
  }
 ]
}